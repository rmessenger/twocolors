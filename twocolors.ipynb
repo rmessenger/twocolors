{
 "cells": [
  {
   "cell_type": "markdown",
   "metadata": {},
   "source": [
    "# Representing three channel (RGB) colour using two colour channels (YB) and the time domain.\n",
    "## Three-color vision\n",
    "Individuals with normal vision have three distinct types of light-detecting cells in their retina, in addition to the rods, which are most active in low-light, and will not be discussed here. The retina processes the output of these cells before it reaches the brain. One of the steps in this processing is called the color [opponent process](https://en.wikipedia.org/wiki/Opponent_process), in which color is measured in terms of its red/green-ness and yellow/blue-ness. Yellowness is calculated by the retina as the sum of redness and greenness, which is contrasted with  blueness forming a yellow-blue \"channel\". Redness is similarly contrasted with greenness to produce a second red-green channel. This forms the two-dimensional colorspace which individuals with normal color vision perceive.\n",
    "\n",
    "## Red-green colorblindness\n",
    "Individuals with [red-green color blindness](https://en.wikipedia.org/wiki/Color_blindness#Red%E2%80%93green_color_blindness) are missing either the red or the green cone cell type. The spectral response of the long (L) wavelength red cones and medium (M) are close to each other, and as a result, the lack of either one produces a very similar effect. The retina uses the one remaining cone as a sort of yellow cone, and the short (S) wavelength blue cone functions as usual. This leaves the individual with a one-dimensional yellow-blue colorspace only.\n",
    "\n",
    "![Spectral Response Curves](https://upload.wikimedia.org/wikipedia/commons/thumb/1/1e/Cones_SMJ2_E.svg/635px-Cones_SMJ2_E.svg.png)\n",
    "*Vanessaezekowitz at en.wikipedia [GFDL (http://www.gnu.org/copyleft/fdl.html), CC BY 3.0-2.5-2.0-1.0 (http://creativecommons.org/licenses/by/3.0-2.5-2.0-1.0) or CC BY-SA 3.0 (https://creativecommons.org/licenses/by-sa/3.0)], via Wikimedia Commons*\n",
    "\n",
    "## What does it look like?\n",
    "While it is impossible for someone with normal color-vision to know for sure what an individual with red-green color blindness sees, we can come reasonably close by taking a three-color (RGB) image and replacing both the red and green channels with the average of the two. This makes it impossible to differentiate the degree of red/green-ness of a pixel. Matrix multiplication is the simplest approach to this, where each pixel is a vector with three components corresponding to the red, green and blue-ness of the image. Multiplying this vector by a three-by-three matrix allows any arbitrary linear recombination of these components into a new vector."
   ]
  },
  {
   "cell_type": "code",
   "execution_count": 1,
   "metadata": {
    "collapsed": true
   },
   "outputs": [],
   "source": [
    "# Import the required libraries\n",
    "%matplotlib inline\n",
    "import imageio\n",
    "import cycler\n",
    "import math\n",
    "import numpy\n",
    "import matplotlib.pyplot as plt\n",
    "import warnings\n",
    "warnings.filterwarnings('ignore')\n",
    "\n",
    "# Import the test image\n",
    "im=imageio.imread('crayons.jpeg')\n",
    "im=im.astype(float)\n",
    "im=im/256.0\n",
    "\n",
    "# Matrix to convert to yellow-blue colorspace\n",
    "m_yb=numpy.array([[0.5,0.5,0.0],\n",
    "                  [0.5,0.5,0.0],\n",
    "                  [0.0,0.0,1.0]])\n",
    "\n",
    "# Multiply each pixel by above matrix, and export image\n",
    "im_yb=numpy.matmul(im,m_yb)\n",
    "imageio.imwrite('test_yb.jpg',im_yb)"
   ]
  },
  {
   "cell_type": "markdown",
   "metadata": {},
   "source": [
    "![RGB](crayons.jpeg)\n",
    "*Original Image (From [pexels.com](http://www.pexels.com) under CC0 license, no photographer listed)*\n",
    "\n",
    "![YB](test_yb.jpg)\n",
    "*Yellow-Blue*"
   ]
  },
  {
   "cell_type": "markdown",
   "metadata": {},
   "source": [
    "It is clear from the above images that it is impossible to discriminate the red-green dimension of hue in the right image, whereas the yellow-blue dimension is fully discriminable."
   ]
  },
  {
   "cell_type": "markdown",
   "metadata": {},
   "source": [
    "## Making the unseen seen\n",
    "There are two independant axes in normal trichromatic vision. The first is the yellow-blue (YB) axis, and the second is the red-green (RG) axis. The above image on the bottom represents the YB axis of the original image on the top. One of the axes has been stripped from the image, and the resulting image is what a person with red-green color blindness would see. One way of adding the unseen axis back in is to use yellows and blues as proxies for reds and greens. Since both blues and greens appear [*cool*](https://en.wikipedia.org/wiki/Color_theory#Warm_vs._cool_colors), and reds and yellows both appear [*warm*](https://en.wikipedia.org/wiki/Color_theory#Warm_vs._cool_colors), it makes the most sense to use yellows to represent reds, and blues to represent greens. As above, matrix multiplication can be used to acheive this result:"
   ]
  },
  {
   "cell_type": "code",
   "execution_count": 2,
   "metadata": {
    "collapsed": true
   },
   "outputs": [],
   "source": [
    "# A matrix to extract RG axis\n",
    "m_rg=numpy.array([[1,0,0.5],\n",
    "                  [0,1,0.5],\n",
    "                  [0,0,0  ]])\n",
    "\n",
    "# A matrix to rotate RG to YB\n",
    "m_rg_yb=numpy.array([[0.75,0.75,0],\n",
    "                     [0.25,0.25,1],\n",
    "                     [0   ,0   ,0]])\n",
    "\n",
    "# Create two images of this effect from the test image\n",
    "im_rg=numpy.matmul(im,m_rg)\n",
    "im_rg_yb=numpy.matmul(im,m_rg_yb)\n",
    "imageio.imwrite('test_rg.jpg',im_rg)\n",
    "imageio.imwrite('test_rg_yb.jpg',im_rg_yb)"
   ]
  },
  {
   "cell_type": "markdown",
   "metadata": {},
   "source": [
    "![RG](test_rg.jpg)\n",
    "*Red-Green*\n",
    "\n",
    "![RGYB](test_rg_yb.jpg)\n",
    "*Red-Green represented using yellows and blues*"
   ]
  },
  {
   "cell_type": "markdown",
   "metadata": {},
   "source": [
    "## Using time domain to display both axes\n",
    "It is trivial to fully represent reds and greens to a person with RG color blindness, but at the expense of the original yellows and blues, so how do we show both? One possibility is to use the time domain. I will overlay the YB image and the red-green-to-yellow-blue (RGYB) image using a function I will call $h(t)$ which represents the contribution of the alternate, rotated RG image as a function of time. The final image $I_{final}$ will be $I_{final} = h(t) \\cdot I_{RGYB} + (1-h(t)) \\cdot I_{YB}$. The requirements for $h(t)$ are that it must be normalized (have a range from 0 to 1), and it ought to be asymmetrical (there does not exist a $t'$ such that $h(t) = 1-h(t+t')$) so the two modes can be told apart. After some experimentation, $h(t)=sin^{4} (\\frac{\\pi t}{T})$, where $T$ is the time period over which it repeats, produces a nice looking result."
   ]
  },
  {
   "cell_type": "code",
   "execution_count": 3,
   "metadata": {
    "scrolled": true
   },
   "outputs": [
    {
     "data": {
      "image/png": "[encoded data removed]",
      "text/plain": [
       "<matplotlib.figure.Figure at 0x7f3b44e59780>"
      ]
     },
     "metadata": {},
     "output_type": "display_data"
    }
   ],
   "source": [
    "T=1.0 # period in seconds\n",
    "\n",
    "# Mixing function\n",
    "def h(t):\n",
    "    return math.sin(math.pi*t/T)**4\n",
    "\n",
    "# Plot the function\n",
    "h_values=[h(t) for t in numpy.arange(0,3*T,0.02)]\n",
    "p=plt.plot(h_values)"
   ]
  },
  {
   "cell_type": "code",
   "execution_count": 4,
   "metadata": {
    "collapsed": true,
    "scrolled": true
   },
   "outputs": [],
   "source": [
    "# Create an animation using the test image and the above mixing function\n",
    "with imageio.get_writer(\"test_ybt.gif\", fps=30) as f:\n",
    "    for t in numpy.arange(0,T,1.0/30.0):\n",
    "        frame_rotate=h(t)*im_rg_yb+(1-h(t))*im_yb\n",
    "        f.append_data(frame_rotate)"
   ]
  },
  {
   "cell_type": "markdown",
   "metadata": {},
   "source": [
    "![Yellow-Blue-Time](test_ybt.gif)\n",
    "*Final image, combining YB with RG represented as YB*"
   ]
  }
 ],
 "metadata": {
  "kernelspec": {
   "display_name": "Python 3",
   "language": "python",
   "name": "python3"
  },
  "language_info": {
   "codemirror_mode": {
    "name": "ipython",
    "version": 3
   },
   "file_extension": ".py",
   "mimetype": "text/x-python",
   "name": "python",
   "nbconvert_exporter": "python",
   "pygments_lexer": "ipython3",
   "version": "3.6.1"
  }
 },
 "nbformat": 4,
 "nbformat_minor": 2
}
